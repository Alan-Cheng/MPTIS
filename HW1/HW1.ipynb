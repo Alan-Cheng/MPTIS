{
 "cells": [
  {
   "cell_type": "code",
   "execution_count": 1,
   "metadata": {},
   "outputs": [],
   "source": [
    "import numpy as np\n",
    "import matplotlib.pyplot as plt\n",
    "import pandas as pd\n",
    "import requests\n",
    "import random\n",
    "from bs4 import BeautifulSoup"
   ]
  },
  {
   "cell_type": "code",
   "execution_count": 2,
   "metadata": {},
   "outputs": [],
   "source": [
    "#抓台灣中型一百的股票代號\n",
    "stocks = []\n",
    "headers = {\n",
    "    \"User-Agent\": \"Mozilla/5.0 (Windows NT 10.0; Win64; x64) AppleWebKit/537.36 (KHTML, like Gecko) Chrome/116.0.0.0 Safari/537.36\",\n",
    "    \"scheme\" : 'https',\n",
    "    \"path\" : '/tw/image/Goodinfo.ico', \n",
    "    \"Referer\" : 'https://goodinfo.tw/tw/StockDetail.asp?STOCK_ID=0051',\n",
    "    \"Cookie\" : 'CLIENT%5FID=20230920214311062%5F140%2E117%2E80%2E123; IS_TOUCH_DEVICE=F; SCREEN_SIZE=WIDTH=1920&HEIGHT=1080; TW_STOCK_BROWSE_LIST=0051'\n",
    "}\n",
    "response = requests.get(\"https://goodinfo.tw/tw/StockDetail.asp?STOCK_ID=0051\", headers=headers)\n",
    "response.encoding = \"utf-8\"\n",
    "soup = BeautifulSoup(response.text, \"html.parser\")\n",
    "stock_tags = soup.select('a[class=\"link_black\"][target=\"_self\"]')\n",
    "for tag in stock_tags:\n",
    "    soup = BeautifulSoup(str(tag), \"html.parser\")\n",
    "    stock = soup.select('a.link_black nobr')\n",
    "    stocks.append(stock[0].text)\n"
   ]
  },
  {
   "cell_type": "code",
   "execution_count": 3,
   "metadata": {},
   "outputs": [
    {
     "name": "stdout",
     "output_type": "stream",
     "text": [
      "2371 之 202304 價格爬取失敗\n"
     ]
    }
   ],
   "source": [
    "#用股票代號去找股價並存入DataFrame\n",
    "\n",
    "start_date = '2022-09-15'\n",
    "end_date = '2023-09-15'\n",
    "#生成月份區間\n",
    "date_range = pd.date_range(start=start_date, end=end_date, freq='M')\n",
    "yyyymm = date_range.strftime('%Y%m').tolist()\n",
    "\n",
    "stocks_prices = {}\n",
    "for stock in stocks:\n",
    "    df = pd.DataFrame(columns=['Date', 'Closing Price'])\n",
    "    dates = []\n",
    "    closing_price = []\n",
    "    for date in yyyymm:\n",
    "        url = f'https://www.twse.com.tw/exchangeReport/STOCK_DAY?response=json&date={date}&stockNo={stock}'\n",
    "        response = requests.get(url)\n",
    "        data = response.json()\n",
    "        if 'data' in data:\n",
    "            stock_data = data['data']\n",
    "            for idx, row in enumerate(stock_data):\n",
    "                dates.append(row[0])\n",
    "                if row[6] == '--':\n",
    "                    closing_price.append(stock_data[idx-1][6])\n",
    "                else:\n",
    "                    closing_price.append(row[6])\n",
    "        else:\n",
    "            print(f'{stock} 之 {date} 價格爬取失敗')\n",
    "    df['Date'] = dates\n",
    "    df['Closing Price'] = closing_price\n",
    "    stocks_prices[stock] = df"
   ]
  },
  {
   "cell_type": "code",
   "execution_count": 5,
   "metadata": {},
   "outputs": [],
   "source": [
    "# #隨機生成波動率介於0.02~0.15的100組（股票）的收益率\n",
    "# def random_returns():\n",
    "#     days = 252\n",
    "#     samples = 100\n",
    "#     volatility = np.linspace(0.02, 0.15, 20)    # 每日收益率的標準差（波動率）\n",
    "\n",
    "#     random_returns = []\n",
    "#     for i in range(samples):\n",
    "#         stock_return = np.random.normal(0, random.choice(volatility), days)\n",
    "#         random_returns.append(stock_return)\n",
    "\n",
    "#     return np.array(random_returns)"
   ]
  },
  {
   "cell_type": "code",
   "execution_count": 17,
   "metadata": {},
   "outputs": [],
   "source": [
    "def correlation_matrix(returns):\n",
    "    \n",
    "\n",
    "def standard_deviation_matrix(returns):\n",
    "    \n",
    "\n",
    "def V_matrix(returns):\n",
    "    "
   ]
  },
  {
   "cell_type": "code",
   "execution_count": 8,
   "metadata": {},
   "outputs": [],
   "source": [
    "# #隨機生成V\n",
    "# def random_V(size):\n",
    "#     matrix_size = size\n",
    "#     symmetric_matrix = np.zeros((matrix_size, matrix_size))\n",
    "\n",
    "#     for i in range(matrix_size):\n",
    "#         for j in range(i + 1, matrix_size):\n",
    "#             value = np.random.uniform(-1, 1)\n",
    "#             symmetric_matrix[i, j] = value\n",
    "#             symmetric_matrix[j, i] = -value  \n",
    "\n",
    "#     np.fill_diagonal(symmetric_matrix, 1)\n",
    "\n",
    "#     return symmetric_matrix"
   ]
  },
  {
   "cell_type": "code",
   "execution_count": 9,
   "metadata": {},
   "outputs": [],
   "source": [
    "# #隨機生成f\n",
    "# def random_f(size):\n",
    "#     f = np.random.rand(size)\n",
    "#     return f"
   ]
  },
  {
   "cell_type": "code",
   "execution_count": 10,
   "metadata": {},
   "outputs": [],
   "source": [
    "def get_variance_of_protfolio(V, N):\n",
    "    avg_of_stocks_variance = np.sum([V[i, i] for i in range(min(V.shape))]) / N\n",
    "    avg_of_stocks_covariance = np.sum([V[i, j] for i in range(min(V.shape)) for j in range(min(V.shape)) if i != j]) / (N * (N - 1) / 2)\n",
    "    \n",
    "    variance_of_protfolio = 1 / N * avg_of_stocks_variance + (N - 1) / N * avg_of_stocks_covariance\n",
    "    SD = np.sqrt(variance_of_protfolio)\n",
    "\n",
    "    return variance_of_protfolio"
   ]
  },
  {
   "cell_type": "code",
   "execution_count": 11,
   "metadata": {},
   "outputs": [],
   "source": [
    "SD = []\n",
    "components = []\n",
    "for i in range(2, 101):\n",
    "    SD.append(get_variance_of_protfolio(v, i))\n",
    "    components.append(i)"
   ]
  },
  {
   "cell_type": "code",
   "execution_count": 12,
   "metadata": {},
   "outputs": [
    {
     "data": {
      "text/plain": [
       "[<matplotlib.lines.Line2D at 0x180c547ee10>]"
      ]
     },
     "execution_count": 12,
     "metadata": {},
     "output_type": "execute_result"
    },
    {
     "data": {
      "image/png": "[encoded data removed]",
      "text/plain": [
       "<Figure size 640x480 with 1 Axes>"
      ]
     },
     "metadata": {},
     "output_type": "display_data"
    }
   ],
   "source": [
    "plt.plot(components, SD)"
   ]
  }
 ],
 "metadata": {
  "kernelspec": {
   "display_name": "Python 3",
   "language": "python",
   "name": "python3"
  },
  "language_info": {
   "codemirror_mode": {
    "name": "ipython",
    "version": 3
   },
   "file_extension": ".py",
   "mimetype": "text/x-python",
   "name": "python",
   "nbconvert_exporter": "python",
   "pygments_lexer": "ipython3",
   "version": "3.11.0"
  },
  "orig_nbformat": 4
 },
 "nbformat": 4,
 "nbformat_minor": 2
}
