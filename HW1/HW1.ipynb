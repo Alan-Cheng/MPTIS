{
 "cells": [
  {
   "cell_type": "markdown",
   "metadata": {},
   "source": [
    "問題:\n",
    "1. 預期超額報酬(f)?\n",
    "2. V(共變異矩陣)中的rho(小p)該怎麼計算? sigma是標準差?"
   ]
  },
  {
   "cell_type": "code",
   "execution_count": 1,
   "metadata": {},
   "outputs": [],
   "source": [
    "import numpy as np"
   ]
  },
  {
   "cell_type": "code",
   "execution_count": 16,
   "metadata": {},
   "outputs": [],
   "source": [
    "#隨機生成V\n",
    "def random_V(size):\n",
    "    matrix_size = size\n",
    "    symmetric_matrix = np.zeros((matrix_size, matrix_size))\n",
    "\n",
    "    for i in range(matrix_size):\n",
    "        for j in range(i + 1, matrix_size):\n",
    "            value = np.random.uniform(-1, 1)\n",
    "            symmetric_matrix[i, j] = value\n",
    "            symmetric_matrix[j, i] = -value  \n",
    "\n",
    "    np.fill_diagonal(symmetric_matrix, 1)\n",
    "\n",
    "    return symmetric_matrix"
   ]
  },
  {
   "cell_type": "code",
   "execution_count": 17,
   "metadata": {},
   "outputs": [],
   "source": [
    "#隨機生成f\n",
    "def random_f(size):\n",
    "    f = np.random.rand(size)\n",
    "    return f"
   ]
  },
  {
   "cell_type": "code",
   "execution_count": null,
   "metadata": {},
   "outputs": [],
   "source": []
  }
 ],
 "metadata": {
  "kernelspec": {
   "display_name": "Python 3",
   "language": "python",
   "name": "python3"
  },
  "language_info": {
   "codemirror_mode": {
    "name": "ipython",
    "version": 3
   },
   "file_extension": ".py",
   "mimetype": "text/x-python",
   "name": "python",
   "nbconvert_exporter": "python",
   "pygments_lexer": "ipython3",
   "version": "3.11.0"
  },
  "orig_nbformat": 4
 },
 "nbformat": 4,
 "nbformat_minor": 2
}
