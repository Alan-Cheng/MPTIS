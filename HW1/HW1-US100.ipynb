{
 "cells": [
  {
   "cell_type": "code",
   "execution_count": 1,
   "metadata": {},
   "outputs": [],
   "source": [
    "import numpy as np\n",
    "import matplotlib.pyplot as plt\n",
    "import pandas as pd\n",
    "import requests\n",
    "import random\n",
    "from bs4 import BeautifulSoup"
   ]
  },
  {
   "cell_type": "code",
   "execution_count": 8,
   "metadata": {},
   "outputs": [],
   "source": [
    "#抓美國市值前一百的股票代號\n",
    "stocks = []\n",
    "headers = {\n",
    "    \"User-Agent\": \"Mozilla/5.0 (Windows NT 10.0; Win64; x64) AppleWebKit/537.36 (KHTML, like Gecko) Chrome/116.0.0.0 Safari/537.36\",\n",
    "    \"scheme\" : 'https',\n",
    "    \"path\" : '/tw/image/Goodinfo.ico', \n",
    "    \"Referer\" : 'https://goodinfo.tw/tw/StockDetail.asp?STOCK_ID=0051',\n",
    "    \"Cookie\" : 'CLIENT%5FID=20230920214311062%5F140%2E117%2E80%2E123; IS_TOUCH_DEVICE=F; SCREEN_SIZE=WIDTH=1920&HEIGHT=1080; TW_STOCK_BROWSE_LIST=0051'\n",
    "}\n",
    "response = requests.get(\"https://tw.tradingview.com/markets/stocks-usa/market-movers-large-cap/\", headers=headers)\n",
    "\n",
    "soup = BeautifulSoup(response.text, \"html.parser\")\n",
    "stock_tags = soup.select('a[class=\"apply-common-tooltip tickerNameBox-GrtoTeat tickerName-GrtoTeat\"][target=\"_blank\"]')\n",
    "\n",
    "for tag in stock_tags:\n",
    "    stocks.append(tag.text)\n"
   ]
  },
  {
   "cell_type": "code",
   "execution_count": 22,
   "metadata": {},
   "outputs": [],
   "source": [
    "#用yfinance抓美股股價\n",
    "import yfinance as yf\n",
    "\n",
    "stocks_prices = {}\n",
    "for stock in stocks:\n",
    "    if stock == 'BRK.A':\n",
    "        stock = 'BRK-A'\n",
    "    prices = yf.Ticker(stock)\n",
    "    historical_data = prices.history(period=\"1y\")\n",
    "    stocks_prices[stock] = historical_data"
   ]
  },
  {
   "cell_type": "code",
   "execution_count": 26,
   "metadata": {},
   "outputs": [],
   "source": [
    "def get_stocks_returns(stocks_prices):\n",
    "    stocks_daily_returns = {}\n",
    "    for stock in stocks_prices:\n",
    "        stock_daily_price = np.array(stocks_prices[stock]['Close']).astype(float)\n",
    "        stocks_daily_returns[stock] = np.diff(stock_daily_price) / stock_daily_price[:-1]\n",
    "    return stocks_daily_returns"
   ]
  },
  {
   "cell_type": "code",
   "execution_count": 29,
   "metadata": {},
   "outputs": [],
   "source": [
    "stocks_returns = get_stocks_returns(stocks_prices)"
   ]
  },
  {
   "cell_type": "code",
   "execution_count": 9,
   "metadata": {},
   "outputs": [],
   "source": [
    "# #隨機生成波動率介於0.02~0.15的100組（股票）的收益率\n",
    "# def random_returns():\n",
    "#     days = 252\n",
    "#     samples = 100\n",
    "#     volatility = np.linspace(0.02, 0.15, 20)    # 每日收益率的標準差（波動率）\n",
    "\n",
    "#     random_returns = []\n",
    "#     for i in range(samples):\n",
    "#         stock_return = np.random.normal(0, random.choice(volatility), days)\n",
    "#         random_returns.append(stock_return)\n",
    "\n",
    "#     return np.array(random_returns)"
   ]
  },
  {
   "cell_type": "code",
   "execution_count": 31,
   "metadata": {},
   "outputs": [],
   "source": [
    "from collections import Counter\n",
    "\n",
    "#將收益率陣列長度不等於最長天數的股票刪除\n",
    "def returns_length_reshape(stocks_returns):\n",
    "    length = []\n",
    "    for stock in stocks_returns:\n",
    "        length.append(len(stocks_returns[stock]))\n",
    "    max_length = Counter(length).most_common(1)[0][0]\n",
    "    to_del = []\n",
    "    for stock in stocks_returns:\n",
    "        if len(stocks_returns[stock]) != max_length:\n",
    "            #print(f'{stock} 的收益率陣列長度只有 {len(stocks_returns[stock])} 天，不等於最長天數 {max_length}')\n",
    "            to_del.append(stock)\n",
    "\n",
    "    #刪除收益率陣列長度不等於最長天數的股票\n",
    "    for stock in to_del:\n",
    "        del stocks_returns[stock]\n",
    "\n",
    "def standard_deviation_matrix(stocks_returns):\n",
    "    returns = dict(stocks_returns)\n",
    "    stocks_std = []\n",
    "    for stock in returns:\n",
    "        stocks_std.append(np.std(returns[stock]))\n",
    "    return np.diag(stocks_std)\n",
    "\n",
    "def correlation_matrix(stocks_returns):\n",
    "    temp_dict = dict(stocks_returns)     \n",
    "\n",
    "    #計算相關係數矩陣\n",
    "    size = len(temp_dict)\n",
    "    correlation_matrix = np.zeros((size, size))\n",
    "    for i in range(size):\n",
    "        for j in range(i+1, size):\n",
    "            correlation = np.corrcoef(temp_dict[list(temp_dict.keys())[i]], temp_dict[list(temp_dict.keys())[j]])[0][1]\n",
    "            correlation_matrix[i][j] = correlation\n",
    "            correlation_matrix[j][i] = correlation\n",
    "    np.fill_diagonal(correlation_matrix, 1)\n",
    "    return correlation_matrix\n",
    "\n",
    "def V_matrix(stocks_returns):\n",
    "    V = np.dot(np.dot(standard_deviation_matrix(stocks_returns), correlation_matrix(stocks_returns)), standard_deviation_matrix(stocks_returns))\n",
    "    return V"
   ]
  },
  {
   "cell_type": "code",
   "execution_count": 32,
   "metadata": {},
   "outputs": [
    {
     "data": {
      "text/plain": [
       "100"
      ]
     },
     "execution_count": 32,
     "metadata": {},
     "output_type": "execute_result"
    }
   ],
   "source": [
    "returns_length_reshape(stocks_returns)\n",
    "len(stocks_returns)"
   ]
  },
  {
   "cell_type": "code",
   "execution_count": 12,
   "metadata": {},
   "outputs": [],
   "source": [
    "# #隨機生成V\n",
    "# def random_V(size):\n",
    "#     matrix_size = size\n",
    "#     symmetric_matrix = np.zeros((matrix_size, matrix_size))\n",
    "\n",
    "#     for i in range(matrix_size):\n",
    "#         for j in range(i + 1, matrix_size):\n",
    "#             value = np.random.uniform(-1, 1)\n",
    "#             symmetric_matrix[i, j] = value\n",
    "#             symmetric_matrix[j, i] = -value  \n",
    "\n",
    "#     np.fill_diagonal(symmetric_matrix, 1)\n",
    "\n",
    "#     return symmetric_matrix"
   ]
  },
  {
   "cell_type": "code",
   "execution_count": 13,
   "metadata": {},
   "outputs": [],
   "source": [
    "# #隨機生成f\n",
    "# def random_f(size):\n",
    "#     f = np.random.rand(size)\n",
    "#     return f"
   ]
  },
  {
   "cell_type": "code",
   "execution_count": 33,
   "metadata": {},
   "outputs": [],
   "source": [
    "def get_variance_of_protfolio(V, N):\n",
    "    avg_of_stocks_variance = np.sum(np.diag(V)) / N\n",
    "    avg_of_stocks_covariance = np.sum([V[i, j] for i in range(min(V.shape)) for j in range(min(V.shape)) if i != j]) / (N * (N - 1) / 2)\n",
    "    \n",
    "    variance_of_protfolio = 1 / N * avg_of_stocks_variance + (N - 1) / N * avg_of_stocks_covariance\n",
    "    sd = np.sqrt(variance_of_protfolio)\n",
    "\n",
    "    return variance_of_protfolio"
   ]
  },
  {
   "cell_type": "code",
   "execution_count": 34,
   "metadata": {},
   "outputs": [],
   "source": [
    "def get_random_stocks(stocks_returns, n):\n",
    "    temp_dict = dict(stocks_returns)\n",
    "    \n",
    "    if n >= len(temp_dict):\n",
    "        return temp_dict\n",
    "    else:\n",
    "        keys = list(temp_dict.keys())\n",
    "        random_keys = random.sample(keys, n)\n",
    "        random_elements = {k: temp_dict[k] for k in random_keys}\n",
    "        return random_elements"
   ]
  },
  {
   "cell_type": "code",
   "execution_count": 35,
   "metadata": {},
   "outputs": [],
   "source": [
    "sds = []\n",
    "components = []\n",
    "repeat = 50\n",
    "\n",
    "for i in range(2, 101):\n",
    "    sd = 0\n",
    "    for j in range(repeat):\n",
    "        random_stocks = get_random_stocks(stocks_returns, i)\n",
    "        v = V_matrix(random_stocks)\n",
    "        sd += get_variance_of_protfolio(v, i)\n",
    "    avg_sd = sd / repeat\n",
    "    sds.append(avg_sd)\n",
    "    components.append(i)"
   ]
  },
  {
   "cell_type": "code",
   "execution_count": 36,
   "metadata": {},
   "outputs": [
    {
     "data": {
      "text/plain": [
       "[<matplotlib.lines.Line2D at 0x7f8bb15cc820>]"
      ]
     },
     "execution_count": 36,
     "metadata": {},
     "output_type": "execute_result"
    },
    {
     "data": {
      "image/png": "[encoded data removed]",
      "text/plain": [
       "<Figure size 640x480 with 1 Axes>"
      ]
     },
     "metadata": {},
     "output_type": "display_data"
    }
   ],
   "source": [
    "plt.plot(components, sds)"
   ]
  }
 ],
 "metadata": {
  "kernelspec": {
   "display_name": "Python 3",
   "language": "python",
   "name": "python3"
  },
  "language_info": {
   "codemirror_mode": {
    "name": "ipython",
    "version": 3
   },
   "file_extension": ".py",
   "mimetype": "text/x-python",
   "name": "python",
   "nbconvert_exporter": "python",
   "pygments_lexer": "ipython3",
   "version": "3.9.16"
  },
  "orig_nbformat": 4
 },
 "nbformat": 4,
 "nbformat_minor": 2
}
