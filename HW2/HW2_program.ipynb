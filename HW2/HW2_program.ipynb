{
 "cells": [
  {
   "cell_type": "code",
   "execution_count": 1,
   "metadata": {},
   "outputs": [],
   "source": [
    "import numpy as np\n",
    "import matplotlib.pyplot as plt\n",
    "import pandas as pd\n",
    "import requests\n",
    "import random\n",
    "from bs4 import BeautifulSoup\n",
    "import re"
   ]
  },
  {
   "cell_type": "markdown",
   "metadata": {},
   "source": [
    "抓股票代號"
   ]
  },
  {
   "cell_type": "code",
   "execution_count": 2,
   "metadata": {},
   "outputs": [],
   "source": [
    "#抓美國市值前一百的股票代號\n",
    "US100_stocks = []\n",
    "headers = {\n",
    "    \"User-Agent\": \"Mozilla/5.0 (Windows NT 10.0; Win64; x64) AppleWebKit/537.36 (KHTML, like Gecko) Chrome/116.0.0.0 Safari/537.36\",\n",
    "    \"scheme\" : 'https',\n",
    "    \"path\" : '/tw/image/Goodinfo.ico', \n",
    "    \"Referer\" : 'https://goodinfo.tw/tw/StockDetail.asp?STOCK_ID=0051',\n",
    "    \"Cookie\" : 'CLIENT%5FID=20230920214311062%5F140%2E117%2E80%2E123; IS_TOUCH_DEVICE=F; SCREEN_SIZE=WIDTH=1920&HEIGHT=1080; TW_STOCK_BROWSE_LIST=0051'\n",
    "}\n",
    "response = requests.get(\"https://tw.tradingview.com/markets/stocks-usa/market-movers-large-cap/\", headers=headers)\n",
    "\n",
    "soup = BeautifulSoup(response.text, \"html.parser\")\n",
    "stock_tags = soup.select('a[class=\"apply-common-tooltip tickerNameBox-GrtoTeat tickerName-GrtoTeat\"][target=\"_blank\"]')\n",
    "\n",
    "for tag in stock_tags:\n",
    "    US100_stocks.append(tag.text)"
   ]
  },
  {
   "cell_type": "markdown",
   "metadata": {},
   "source": [
    "利用前面抓的股票代號來抓歷史股價"
   ]
  },
  {
   "cell_type": "code",
   "execution_count": 3,
   "metadata": {},
   "outputs": [],
   "source": [
    "#用yfinance抓美股股價\n",
    "import yfinance as yf\n",
    "\n",
    "random.seed(42)\n",
    "US10_Stocks = random.sample(US100_stocks, 10)\n",
    "\n",
    "US10_stocks_prices = {}\n",
    "for stock in US10_Stocks:\n",
    "    if stock == 'BRK.A':\n",
    "        stock = 'BRK-A'\n",
    "    prices = yf.Ticker(stock)\n",
    "    historical_data = prices.history(period=\"2y\")\n",
    "    US10_stocks_prices[stock] = historical_data"
   ]
  },
  {
   "cell_type": "code",
   "execution_count": 4,
   "metadata": {},
   "outputs": [
    {
     "data": {
      "text/plain": [
       "['ADP', 'JNJ', 'AMZN', 'ETN', 'CMCSA', 'MCD', 'CSCO', 'AVGO', 'JPM', 'CVS']"
      ]
     },
     "execution_count": 4,
     "metadata": {},
     "output_type": "execute_result"
    }
   ],
   "source": [
    "US10_Stocks"
   ]
  },
  {
   "cell_type": "markdown",
   "metadata": {},
   "source": [
    "利用股價生成日報酬"
   ]
  },
  {
   "cell_type": "code",
   "execution_count": 5,
   "metadata": {},
   "outputs": [],
   "source": [
    "#將股價換算成日報酬率的函數\n",
    "def get_stocks_returns(stocks_prices):\n",
    "    stocks_daily_returns = {}\n",
    "    for stock in stocks_prices:\n",
    "        try:\n",
    "            stock_daily_price = np.array(stocks_prices[stock]['Close']).astype(float)\n",
    "        except:\n",
    "            stock_daily_price = np.array(stocks_prices[stock]['Closing Price'].str.replace(',', '')).astype(float)\n",
    "        stocks_daily_returns[stock] = np.diff(stock_daily_price) / stock_daily_price[:-1]\n",
    "    return stocks_daily_returns"
   ]
  },
  {
   "cell_type": "code",
   "execution_count": 6,
   "metadata": {},
   "outputs": [],
   "source": [
    "US10_stocks_returns = get_stocks_returns(US10_stocks_prices)"
   ]
  },
  {
   "cell_type": "code",
   "execution_count": 7,
   "metadata": {},
   "outputs": [
    {
     "data": {
      "text/plain": [
       "array([ 0.2380982 ,  0.03705557, -0.22913847,  0.44857714, -0.159515  ,\n",
       "        0.13635515,  0.01072724,  0.74680505, -0.06954911, -0.10900872])"
      ]
     },
     "execution_count": 7,
     "metadata": {},
     "output_type": "execute_result"
    }
   ],
   "source": [
    "US10_stocks_expected_return = {}\n",
    "for stock in US10_stocks_returns:\n",
    "    US10_stocks_expected_return[stock] = (US10_stocks_prices[stock]['Close'][len(US10_stocks_prices[stock])-1] - US10_stocks_prices[stock]['Close'][0]) / US10_stocks_prices[stock]['Close'][0]\n",
    "US10_stocks_expected_return\n",
    "\n",
    "f = np.array([US10_stocks_expected_return[stock] for stock in US10_stocks_expected_return]).T\n",
    "f"
   ]
  },
  {
   "cell_type": "markdown",
   "metadata": {},
   "source": [
    "開始計算protfolio_variance"
   ]
  },
  {
   "cell_type": "code",
   "execution_count": 8,
   "metadata": {},
   "outputs": [],
   "source": [
    "from collections import Counter\n",
    "\n",
    "#將收益率陣列長度不等於最長天數的股票刪除\n",
    "def returns_length_reshape(stocks_returns):\n",
    "    length = []\n",
    "    for stock in stocks_returns:\n",
    "        length.append(len(stocks_returns[stock]))\n",
    "    max_length = Counter(length).most_common(1)[0][0]\n",
    "    to_del = []\n",
    "    for stock in stocks_returns:\n",
    "        if len(stocks_returns[stock]) != max_length:\n",
    "            #print(f'{stock} 的收益率陣列長度只有 {len(stocks_returns[stock])} 天，不等於最長天數 {max_length}')\n",
    "            to_del.append(stock)\n",
    "\n",
    "    #刪除收益率陣列長度不等於最長天數的股票\n",
    "    for stock in to_del:\n",
    "        del stocks_returns[stock]\n",
    "\n",
    "#透過日報酬計算個股標準差\n",
    "def standard_deviation_matrix(stocks_returns):\n",
    "    returns = dict(stocks_returns)\n",
    "    stocks_std = []\n",
    "    for stock in returns:\n",
    "        stocks_std.append(np.std(returns[stock]))\n",
    "    return np.diag(stocks_std)\n",
    "\n",
    "#計算相關係數矩陣\n",
    "def correlation_matrix(stocks_returns):\n",
    "    temp_dict = dict(stocks_returns)     \n",
    "    size = len(temp_dict)\n",
    "    correlation_matrix = np.zeros((size, size))\n",
    "    for i in range(size):\n",
    "        for j in range(i+1, size):\n",
    "            correlation = np.corrcoef(temp_dict[list(temp_dict.keys())[i]], temp_dict[list(temp_dict.keys())[j]])[0][1]\n",
    "            correlation_matrix[i][j] = correlation\n",
    "            correlation_matrix[j][i] = correlation\n",
    "    np.fill_diagonal(correlation_matrix, 1)\n",
    "    return correlation_matrix\n",
    "\n",
    "#計算共變異數矩陣\n",
    "def V_matrix(stocks_returns):\n",
    "    V = np.dot(np.dot(standard_deviation_matrix(stocks_returns), correlation_matrix(stocks_returns)), standard_deviation_matrix(stocks_returns))\n",
    "    return V"
   ]
  },
  {
   "cell_type": "code",
   "execution_count": 9,
   "metadata": {},
   "outputs": [],
   "source": [
    "#計算有N個組成的投組的變異數\n",
    "def get_variance_of_protfolio(V, N):\n",
    "    avg_of_stocks_variance = np.sum(np.diag(V)) / N\n",
    "    avg_of_stocks_covariance = np.sum([V[i, j] for i in range(min(V.shape)) for j in range(min(V.shape)) if i != j]) / (N * (N - 1) / 2)\n",
    "    \n",
    "    variance_of_protfolio = 1 / N * avg_of_stocks_variance + (N - 1) / N * avg_of_stocks_covariance\n",
    "    # sd = np.sqrt(variance_of_protfolio)\n",
    "\n",
    "    return variance_of_protfolio"
   ]
  },
  {
   "cell_type": "code",
   "execution_count": 10,
   "metadata": {},
   "outputs": [],
   "source": [
    "def get_fp(h, f):\n",
    "    return h.T @ f\n",
    "\n",
    "def variance_p(h, v):\n",
    "    return h.T @ v @ h"
   ]
  },
  {
   "cell_type": "code",
   "execution_count": 11,
   "metadata": {},
   "outputs": [
    {
     "name": "stdout",
     "output_type": "stream",
     "text": [
      "組數字 1: [0.15381632435058198, 0.11325763306005318, 0.12262905800252469, 0.006600388596770987, 0.019457924971638427, 0.04831727005682308, 0.12502273625298074, 0.11655516695932615, 0.148697585139294, 0.14564591261000673]\n",
      "組數字 2: [0.09092362814808132, 0.09735825161119192, 0.060292999866930895, 0.18840573238137476, 0.16445830551409663, 0.0346033812642096, 0.09159432395745157, 0.06022378271721725, 0.0466655148644909, 0.1654740796749551]\n",
      "組數字 3: [0.03320250406938036, 0.123417509226973, 0.1166126807126865, 0.11173231952930837, 0.08592829869381427, 0.014114662019237915, 0.14924190557215325, 0.04054916316848014, 0.2996031014258035, 0.02559785558216254]\n",
      "組數字 4: [0.051384127816085326, 0.11017906119262504, 0.15518941434745823, 0.06338225436806766, 0.03370161477140042, 0.012190639225636287, 0.11589684856018098, 0.13549244590358023, 0.17267564398638144, 0.14990794982858455]\n",
      "組數字 5: [0.16730710289111564, 0.07339759522807228, 0.08754782925605141, 0.16105623721116458, 0.031406461324839624, 0.06859830586276097, 0.12940240094144648, 0.13551267946525408, 0.13198446086950383, 0.013786926949791119]\n"
     ]
    }
   ],
   "source": [
    "# 設置要生成的組數\n",
    "num_samples = 1000000\n",
    "\n",
    "# 每組數字的數量\n",
    "num_digits = len(US10_stocks_returns)\n",
    "\n",
    "# 用來存儲生成的結果的列表\n",
    "results = []\n",
    "\n",
    "# 生成兩千組數字\n",
    "for _ in range(num_samples):\n",
    "    # 生成10個隨機數字\n",
    "    random_numbers = [random.random() for _ in range(num_digits)]\n",
    "    \n",
    "    # 計算總和\n",
    "    total = sum(random_numbers)\n",
    "    \n",
    "    # 將數字標準化，使總和為1\n",
    "    normalized_numbers = [num / total for num in random_numbers]\n",
    "    \n",
    "    # 添加到結果列表中\n",
    "    results.append(normalized_numbers)\n",
    "\n",
    "# 打印前5組數字作為示例\n",
    "for i in range(5):\n",
    "    print(f\"組數字 {i+1}: {results[i]}\")\n"
   ]
  },
  {
   "cell_type": "code",
   "execution_count": 12,
   "metadata": {},
   "outputs": [],
   "source": [
    "fp_array = []\n",
    "p_var_array = []\n",
    "for result in results:\n",
    "    h = np.array(result).T\n",
    "    v = V_matrix(US10_stocks_returns)\n",
    "    fp_array.append(get_fp(h, f))\n",
    "    p_var_array.append(variance_p(h, v))"
   ]
  },
  {
   "cell_type": "code",
   "execution_count": 21,
   "metadata": {},
   "outputs": [],
   "source": [
    "def save(arr, fileName):\n",
    "    with open(f'C:\\\\Users\\\\user\\\\Desktop\\\\MPTIS\\\\HW2\\\\{fileName}_dailyReturn.txt', 'w') as f:\n",
    "        for item in arr:\n",
    "            f.write((str(item) + '\\n'))\n",
    "\n",
    "def read(fileName):\n",
    "    with open(f'C:\\\\Users\\\\user\\\\Desktop\\\\MPTIS\\\\HW2\\\\{fileName}_dailyReturn.txt', 'r') as f:\n",
    "        arr = f.read().splitlines()\n",
    "        arr = [float(i) for i in arr]\n",
    "        return arr"
   ]
  },
  {
   "cell_type": "code",
   "execution_count": 23,
   "metadata": {},
   "outputs": [],
   "source": [
    "save(fp_array, 'US10_fp_array')\n",
    "save(p_var_array, 'US10_p_var_array')\n",
    "\n",
    "# fp_array = read('US10_fp_array')\n",
    "# p_var_array = read('US10_p_var_array')"
   ]
  },
  {
   "cell_type": "code",
   "execution_count": 15,
   "metadata": {},
   "outputs": [],
   "source": [
    "# p_var_array開根號\n",
    "p_sd_array = np.sqrt(p_var_array)"
   ]
  },
  {
   "cell_type": "code",
   "execution_count": 19,
   "metadata": {},
   "outputs": [
    {
     "data": {
      "text/plain": [
       "[<matplotlib.lines.Line2D at 0x275c61df550>]"
      ]
     },
     "execution_count": 19,
     "metadata": {},
     "output_type": "execute_result"
    },
    {
     "data": {
      "image/png": "[encoded data removed]",
      "text/plain": [
       "<Figure size 640x480 with 1 Axes>"
      ]
     },
     "metadata": {},
     "output_type": "display_data"
    }
   ],
   "source": [
    "plt.plot(p_sd_array, fp_array, 'o', color='black', markersize=1)"
   ]
  }
 ],
 "metadata": {
  "kernelspec": {
   "display_name": "Python 3",
   "language": "python",
   "name": "python3"
  },
  "language_info": {
   "codemirror_mode": {
    "name": "ipython",
    "version": 3
   },
   "file_extension": ".py",
   "mimetype": "text/x-python",
   "name": "python",
   "nbconvert_exporter": "python",
   "pygments_lexer": "ipython3",
   "version": "3.11.2"
  },
  "orig_nbformat": 4
 },
 "nbformat": 4,
 "nbformat_minor": 2
}
