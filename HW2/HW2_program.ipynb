{
 "cells": [
  {
   "cell_type": "code",
   "execution_count": 1,
   "metadata": {},
   "outputs": [],
   "source": [
    "import numpy as np\n",
    "import matplotlib.pyplot as plt\n",
    "import pandas as pd\n",
    "import requests\n",
    "import random\n",
    "from bs4 import BeautifulSoup\n",
    "import re"
   ]
  },
  {
   "cell_type": "markdown",
   "metadata": {},
   "source": [
    "抓股票代號"
   ]
  },
  {
   "cell_type": "code",
   "execution_count": 2,
   "metadata": {},
   "outputs": [],
   "source": [
    "#抓美國市值前一百的股票代號\n",
    "US100_stocks = []\n",
    "headers = {\n",
    "    \"User-Agent\": \"Mozilla/5.0 (Windows NT 10.0; Win64; x64) AppleWebKit/537.36 (KHTML, like Gecko) Chrome/116.0.0.0 Safari/537.36\",\n",
    "    \"scheme\" : 'https',\n",
    "    \"path\" : '/tw/image/Goodinfo.ico', \n",
    "    \"Referer\" : 'https://goodinfo.tw/tw/StockDetail.asp?STOCK_ID=0051',\n",
    "    \"Cookie\" : 'CLIENT%5FID=20230920214311062%5F140%2E117%2E80%2E123; IS_TOUCH_DEVICE=F; SCREEN_SIZE=WIDTH=1920&HEIGHT=1080; TW_STOCK_BROWSE_LIST=0051'\n",
    "}\n",
    "response = requests.get(\"https://tw.tradingview.com/markets/stocks-usa/market-movers-large-cap/\", headers=headers)\n",
    "\n",
    "soup = BeautifulSoup(response.text, \"html.parser\")\n",
    "stock_tags = soup.select('a[class=\"apply-common-tooltip tickerNameBox-GrtoTeat tickerName-GrtoTeat\"][target=\"_blank\"]')\n",
    "\n",
    "for tag in stock_tags:\n",
    "    US100_stocks.append(tag.text)"
   ]
  },
  {
   "cell_type": "markdown",
   "metadata": {},
   "source": [
    "利用前面抓的股票代號來抓歷史股價 跟 美國十年期國債資料"
   ]
  },
  {
   "cell_type": "code",
   "execution_count": 3,
   "metadata": {},
   "outputs": [],
   "source": [
    "#用yfinance隨機抓10隻美股股價\n",
    "import yfinance as yf\n",
    "\n",
    "random.seed(0)\n",
    "US100_stocks = random.sample(US100_stocks, 10)\n",
    "\n",
    "US100_stocks_prices = {}\n",
    "for stock in US100_stocks:\n",
    "    if stock == 'BRK.A':\n",
    "        stock = 'BRK-A'\n",
    "    prices = yf.Ticker(stock)\n",
    "    historical_data = prices.history(start='2021-01-01', end='2022-12-31', period=\"1d\")\n",
    "    US100_stocks_prices[stock] = historical_data"
   ]
  },
  {
   "cell_type": "code",
   "execution_count": 19,
   "metadata": {},
   "outputs": [],
   "source": [
    "ticker_symbol = \"^TNX\"  #十年期國債代號\n",
    "us_10yr_bond = yf.Ticker(ticker_symbol)\n",
    "\n",
    "TNX_10yr_yield_20212022 = {'TNX': us_10yr_bond.history(period=\"1d\", start='2021-01-01', end='2022-12-31')}"
   ]
  }
 ],
 "metadata": {
  "kernelspec": {
   "display_name": "Python 3",
   "language": "python",
   "name": "python3"
  },
  "language_info": {
   "codemirror_mode": {
    "name": "ipython",
    "version": 3
   },
   "file_extension": ".py",
   "mimetype": "text/x-python",
   "name": "python",
   "nbconvert_exporter": "python",
   "pygments_lexer": "ipython3",
   "version": "3.9.16"
  },
  "orig_nbformat": 4
 },
 "nbformat": 4,
 "nbformat_minor": 2
}
