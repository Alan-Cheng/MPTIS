{
 "cells": [
  {
   "cell_type": "code",
   "execution_count": 88,
   "metadata": {},
   "outputs": [],
   "source": [
    "import numpy as np\n",
    "import matplotlib.pyplot as plt\n",
    "import pandas as pd\n",
    "import requests\n",
    "import random\n",
    "from bs4 import BeautifulSoup\n",
    "import re"
   ]
  },
  {
   "cell_type": "markdown",
   "metadata": {},
   "source": [
    "抓股票代號"
   ]
  },
  {
   "cell_type": "code",
   "execution_count": 89,
   "metadata": {},
   "outputs": [],
   "source": [
    "#抓美國市值前一百的股票代號\n",
    "US100_stocks = []\n",
    "headers = {\n",
    "    \"User-Agent\": \"Mozilla/5.0 (Windows NT 10.0; Win64; x64) AppleWebKit/537.36 (KHTML, like Gecko) Chrome/116.0.0.0 Safari/537.36\",\n",
    "    \"scheme\" : 'https',\n",
    "    \"path\" : '/tw/image/Goodinfo.ico', \n",
    "    \"Referer\" : 'https://goodinfo.tw/tw/StockDetail.asp?STOCK_ID=0051',\n",
    "    \"Cookie\" : 'CLIENT%5FID=20230920214311062%5F140%2E117%2E80%2E123; IS_TOUCH_DEVICE=F; SCREEN_SIZE=WIDTH=1920&HEIGHT=1080; TW_STOCK_BROWSE_LIST=0051'\n",
    "}\n",
    "response = requests.get(\"https://tw.tradingview.com/markets/stocks-usa/market-movers-large-cap/\", headers=headers)\n",
    "\n",
    "soup = BeautifulSoup(response.text, \"html.parser\")\n",
    "stock_tags = soup.select('a[class=\"apply-common-tooltip tickerNameBox-GrtoTeat tickerName-GrtoTeat\"][target=\"_blank\"]')\n",
    "\n",
    "for tag in stock_tags:\n",
    "    US100_stocks.append(tag.text)"
   ]
  },
  {
   "cell_type": "markdown",
   "metadata": {},
   "source": [
    "利用前面抓的股票代號來抓歷史股價"
   ]
  },
  {
   "cell_type": "code",
   "execution_count": 133,
   "metadata": {},
   "outputs": [],
   "source": [
    "#用yfinance抓美股股價\n",
    "import yfinance as yf\n",
    "\n",
    "random.seed(42)\n",
    "US10_Stocks = random.sample(US100_stocks, 10)\n",
    "US5_Stocks = random.sample(US100_stocks, 10)\n",
    "\n",
    "US10_stocks_prices = {}\n",
    "for stock in US10_Stocks:\n",
    "    if stock == 'BRK.A':\n",
    "        stock = 'BRK-A'\n",
    "    prices = yf.Ticker(stock)\n",
    "    historical_data = prices.history(period=\"2y\")\n",
    "    US10_stocks_prices[stock] = historical_data\n",
    "\n",
    "US5_stocks_prices = {}\n",
    "for stock in US5_Stocks:\n",
    "    if stock == 'BRK.A':\n",
    "        stock = 'BRK-A'\n",
    "    prices = yf.Ticker(stock)\n",
    "    historical_data = prices.history(period=\"2y\")\n",
    "    US5_stocks_prices[stock] = historical_data"
   ]
  },
  {
   "cell_type": "code",
   "execution_count": 115,
   "metadata": {},
   "outputs": [
    {
     "data": {
      "text/plain": [
       "['ADP', 'JNJ', 'AMZN', 'ETN', 'CMCSA', 'MCD', 'CSCO', 'AVGO', 'JPM', 'CVS']"
      ]
     },
     "execution_count": 115,
     "metadata": {},
     "output_type": "execute_result"
    }
   ],
   "source": [
    "US10_Stocks"
   ]
  },
  {
   "cell_type": "code",
   "execution_count": 134,
   "metadata": {},
   "outputs": [
    {
     "data": {
      "text/plain": [
       "['ETN', 'BKNG', 'XOM', 'MDT', 'IBM', 'NVDA', 'AMZN', 'BAC', 'ACN', 'SPGI']"
      ]
     },
     "execution_count": 134,
     "metadata": {},
     "output_type": "execute_result"
    }
   ],
   "source": [
    "US5_Stocks"
   ]
  },
  {
   "cell_type": "markdown",
   "metadata": {},
   "source": [
    "利用股價生成日報酬"
   ]
  },
  {
   "cell_type": "code",
   "execution_count": 135,
   "metadata": {},
   "outputs": [],
   "source": [
    "#將股價換算成日報酬率的函數\n",
    "def get_stocks_returns(stocks_prices):\n",
    "    stocks_daily_returns = {}\n",
    "    for stock in stocks_prices:\n",
    "        try:\n",
    "            stock_daily_price = np.array(stocks_prices[stock]['Close']).astype(float)\n",
    "        except:\n",
    "            stock_daily_price = np.array(stocks_prices[stock]['Closing Price'].str.replace(',', '')).astype(float)\n",
    "        stocks_daily_returns[stock] = np.diff(stock_daily_price) / stock_daily_price[:-1]\n",
    "    return stocks_daily_returns"
   ]
  },
  {
   "cell_type": "code",
   "execution_count": 136,
   "metadata": {},
   "outputs": [],
   "source": [
    "US10_stocks_returns = get_stocks_returns(US10_stocks_prices)\n",
    "US5_stocks_returns = get_stocks_returns(US5_stocks_prices)"
   ]
  },
  {
   "cell_type": "code",
   "execution_count": 149,
   "metadata": {},
   "outputs": [
    {
     "name": "stdout",
     "output_type": "stream",
     "text": [
      "{'ADP': 0.22487983406758888, 'JNJ': 0.025019560571417514, 'AMZN': -0.25820481401417994, 'ETN': 0.4343530682704338, 'CMCSA': -0.1670076390631106, 'MCD': 0.1271726072662624, 'CSCO': -0.0008956311110079357, 'AVGO': 0.720452844990843, 'JPM': -0.08111219247559684, 'CVS': -0.12668869377581637}\n",
      "{'ETN': 0.4343530682704338, 'BKNG': 0.2389643710371215, 'XOM': 1.1423695737170019, 'MDT': -0.3468042967282177, 'IBM': 0.19680608245112852, 'NVDA': 0.9654941775542772, 'AMZN': -0.2579716625037802, 'BAC': -0.3390204711733961, 'ACN': -0.04058246669588039, 'SPGI': -0.1677879054156655}\n"
     ]
    }
   ],
   "source": [
    "US10_stocks_expected_return = {}\n",
    "for stock in US10_stocks_returns:\n",
    "    US10_stocks_expected_return[stock] = (US10_stocks_prices[stock]['Close'][len(US10_stocks_prices[stock])-1] - US10_stocks_prices[stock]['Close'][0]) / US10_stocks_prices[stock]['Close'][0]\n",
    "print(US10_stocks_expected_return)\n",
    "US10_f = np.array([US10_stocks_expected_return[stock] for stock in US10_stocks_expected_return]).T\n",
    "\n",
    "US5_stocks_expected_return = {}\n",
    "for stock in US5_stocks_returns:\n",
    "    US5_stocks_expected_return[stock] = (US5_stocks_prices[stock]['Close'][len(US5_stocks_prices[stock])-1] - US5_stocks_prices[stock]['Close'][0]) / US5_stocks_prices[stock]['Close'][0]\n",
    "print(US5_stocks_expected_return)\n",
    "US5_f = np.array([US5_stocks_expected_return[stock] for stock in US5_stocks_expected_return]).T\n"
   ]
  },
  {
   "cell_type": "markdown",
   "metadata": {},
   "source": [
    "開始計算protfolio_variance"
   ]
  },
  {
   "cell_type": "code",
   "execution_count": 96,
   "metadata": {},
   "outputs": [],
   "source": [
    "from collections import Counter\n",
    "\n",
    "#將收益率陣列長度不等於最長天數的股票刪除\n",
    "def returns_length_reshape(stocks_returns):\n",
    "    length = []\n",
    "    for stock in stocks_returns:\n",
    "        length.append(len(stocks_returns[stock]))\n",
    "    max_length = Counter(length).most_common(1)[0][0]\n",
    "    to_del = []\n",
    "    for stock in stocks_returns:\n",
    "        if len(stocks_returns[stock]) != max_length:\n",
    "            #print(f'{stock} 的收益率陣列長度只有 {len(stocks_returns[stock])} 天，不等於最長天數 {max_length}')\n",
    "            to_del.append(stock)\n",
    "\n",
    "    #刪除收益率陣列長度不等於最長天數的股票\n",
    "    for stock in to_del:\n",
    "        del stocks_returns[stock]\n",
    "\n",
    "#透過日報酬計算個股標準差\n",
    "def standard_deviation_matrix(stocks_returns):\n",
    "    returns = dict(stocks_returns)\n",
    "    stocks_std = []\n",
    "    for stock in returns:\n",
    "        stocks_std.append(np.std(returns[stock]))\n",
    "    return np.diag(stocks_std)\n",
    "\n",
    "#計算相關係數矩陣\n",
    "def correlation_matrix(stocks_returns):\n",
    "    temp_dict = dict(stocks_returns)     \n",
    "    size = len(temp_dict)\n",
    "    correlation_matrix = np.zeros((size, size))\n",
    "    for i in range(size):\n",
    "        for j in range(i+1, size):\n",
    "            correlation = np.corrcoef(temp_dict[list(temp_dict.keys())[i]], temp_dict[list(temp_dict.keys())[j]])[0][1]\n",
    "            correlation_matrix[i][j] = correlation\n",
    "            correlation_matrix[j][i] = correlation\n",
    "    np.fill_diagonal(correlation_matrix, 1)\n",
    "    return correlation_matrix\n",
    "\n",
    "#計算共變異數矩陣\n",
    "def V_matrix(stocks_returns):\n",
    "    V = np.dot(np.dot(standard_deviation_matrix(stocks_returns), correlation_matrix(stocks_returns)), standard_deviation_matrix(stocks_returns))\n",
    "    return V"
   ]
  },
  {
   "cell_type": "code",
   "execution_count": 97,
   "metadata": {},
   "outputs": [],
   "source": [
    "def get_fp(h, f):\n",
    "    return h.T @ f\n",
    "\n",
    "def variance_p(h, v):\n",
    "    return h.T @ v @ h"
   ]
  },
  {
   "cell_type": "code",
   "execution_count": 98,
   "metadata": {},
   "outputs": [],
   "source": [
    "def random_weight(num_stocks, num_weights):\n",
    "    weight = []\n",
    "    for _ in range(num_weights):\n",
    "        # 生成10個隨機數字\n",
    "        random_numbers = [random.random() for _ in range(num_stocks)]\n",
    "        \n",
    "        total = sum(random_numbers)\n",
    "        \n",
    "        # 將數字標準化，使總和為1\n",
    "        normalized_numbers = [num / total for num in random_numbers]\n",
    "        \n",
    "        # 添加到結果列表中\n",
    "        weight.append(normalized_numbers)\n",
    "        \n",
    "    return weight\n"
   ]
  },
  {
   "cell_type": "code",
   "execution_count": 144,
   "metadata": {},
   "outputs": [],
   "source": [
    "random_50000_weights = random_weight(len(US10_Stocks), 50000)\n",
    "random_10000_weights = random_weight(len(US10_Stocks), 10000)\n",
    "random_2000_weights = random_weight(len(US5_Stocks), 2000)"
   ]
  },
  {
   "cell_type": "code",
   "execution_count": 139,
   "metadata": {},
   "outputs": [],
   "source": [
    "def get_fp_and_pVar(random_weights, stocks_returns, f):\n",
    "    fp = []\n",
    "    pVar = []\n",
    "    for weight in random_weights:\n",
    "        h = np.array(weight).T\n",
    "        v = V_matrix(stocks_returns)\n",
    "        fp.append(get_fp(h, f))\n",
    "        pVar.append(variance_p(h, v))\n",
    "    return fp, pVar"
   ]
  },
  {
   "cell_type": "code",
   "execution_count": 145,
   "metadata": {},
   "outputs": [],
   "source": [
    "US5_fp, US5_pVar = get_fp_and_pVar(random_50000_weights, US5_stocks_returns, US5_f)"
   ]
  },
  {
   "cell_type": "code",
   "execution_count": 123,
   "metadata": {},
   "outputs": [],
   "source": [
    "US10_fp, US10_pVar = get_fp_and_pVar(random_10000_weights, US10_stocks_returns, US10_f)"
   ]
  },
  {
   "cell_type": "code",
   "execution_count": 103,
   "metadata": {},
   "outputs": [],
   "source": [
    "def save(arr, fileName):\n",
    "    with open(f'C:\\\\Users\\\\user\\\\Desktop\\\\MPTIS\\\\HW2\\\\{fileName}_dailyReturn.txt', 'w') as f:\n",
    "        for item in arr:\n",
    "            f.write((str(item) + '\\n'))\n",
    "\n",
    "def read(fileName):\n",
    "    with open(f'C:\\\\Users\\\\user\\\\Desktop\\\\MPTIS\\\\HW2\\\\{fileName}_dailyReturn.txt', 'r') as f:\n",
    "        arr = f.read().splitlines()\n",
    "        arr = [float(i) for i in arr]\n",
    "        return arr"
   ]
  },
  {
   "cell_type": "code",
   "execution_count": 125,
   "metadata": {},
   "outputs": [],
   "source": [
    "# save(US5_fp, 'US5_fp_array')\n",
    "# save(US5_pVar, 'US5_p_var_array')\n",
    "\n",
    "US10_fp = read('US10_fp_array')\n",
    "US10_pVar = read('US10_p_var_array')"
   ]
  },
  {
   "cell_type": "code",
   "execution_count": 147,
   "metadata": {},
   "outputs": [
    {
     "data": {
      "text/plain": [
       "[<matplotlib.lines.Line2D at 0x24222a69890>]"
      ]
     },
     "execution_count": 147,
     "metadata": {},
     "output_type": "execute_result"
    },
    {
     "data": {
      "image/png": "[encoded data removed]",
      "text/plain": [
       "<Figure size 640x480 with 1 Axes>"
      ]
     },
     "metadata": {},
     "output_type": "display_data"
    }
   ],
   "source": [
    "plt.plot(np.sqrt(US5_pVar), US5_fp, 'o', color='black', markersize=1)"
   ]
  }
 ],
 "metadata": {
  "kernelspec": {
   "display_name": "Python 3",
   "language": "python",
   "name": "python3"
  },
  "language_info": {
   "codemirror_mode": {
    "name": "ipython",
    "version": 3
   },
   "file_extension": ".py",
   "mimetype": "text/x-python",
   "name": "python",
   "nbconvert_exporter": "python",
   "pygments_lexer": "ipython3",
   "version": "3.11.0"
  },
  "orig_nbformat": 4
 },
 "nbformat": 4,
 "nbformat_minor": 2
}
